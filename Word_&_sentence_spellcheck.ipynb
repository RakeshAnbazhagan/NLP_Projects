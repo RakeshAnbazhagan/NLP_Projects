{
  "nbformat": 4,
  "nbformat_minor": 0,
  "metadata": {
    "colab": {
      "provenance": []
    },
    "kernelspec": {
      "name": "python3",
      "display_name": "Python 3"
    },
    "language_info": {
      "name": "python"
    }
  },
  "cells": [
    {
      "cell_type": "markdown",
      "source": [
        "Correcting the spelling of Sentences"
      ],
      "metadata": {
        "id": "1ZBmzD3Ubijl"
      }
    },
    {
      "cell_type": "code",
      "source": [
        "!sudo apt-get install swig"
      ],
      "metadata": {
        "colab": {
          "base_uri": "https://localhost:8080/"
        },
        "id": "PVdUdvaALOQc",
        "outputId": "6fff727c-ba67-4981-8185-f43b3a7d0c28"
      },
      "execution_count": 4,
      "outputs": [
        {
          "output_type": "stream",
          "name": "stdout",
          "text": [
            "Reading package lists... Done\n",
            "Building dependency tree       \n",
            "Reading state information... Done\n",
            "The following package was automatically installed and is no longer required:\n",
            "  libnvidia-common-460\n",
            "Use 'sudo apt autoremove' to remove it.\n",
            "The following additional packages will be installed:\n",
            "  swig3.0\n",
            "Suggested packages:\n",
            "  swig-doc swig-examples swig3.0-examples swig3.0-doc\n",
            "The following NEW packages will be installed:\n",
            "  swig swig3.0\n",
            "0 upgraded, 2 newly installed, 0 to remove and 20 not upgraded.\n",
            "Need to get 1,100 kB of archives.\n",
            "After this operation, 5,822 kB of additional disk space will be used.\n",
            "Get:1 http://archive.ubuntu.com/ubuntu bionic/universe amd64 swig3.0 amd64 3.0.12-1 [1,094 kB]\n",
            "Get:2 http://archive.ubuntu.com/ubuntu bionic/universe amd64 swig amd64 3.0.12-1 [6,460 B]\n",
            "Fetched 1,100 kB in 0s (8,731 kB/s)\n",
            "debconf: unable to initialize frontend: Dialog\n",
            "debconf: (No usable dialog-like program is installed, so the dialog based frontend cannot be used. at /usr/share/perl5/Debconf/FrontEnd/Dialog.pm line 76, <> line 2.)\n",
            "debconf: falling back to frontend: Readline\n",
            "debconf: unable to initialize frontend: Readline\n",
            "debconf: (This frontend requires a controlling tty.)\n",
            "debconf: falling back to frontend: Teletype\n",
            "dpkg-preconfigure: unable to re-open stdin: \n",
            "Selecting previously unselected package swig3.0.\n",
            "(Reading database ... 124016 files and directories currently installed.)\n",
            "Preparing to unpack .../swig3.0_3.0.12-1_amd64.deb ...\n",
            "Unpacking swig3.0 (3.0.12-1) ...\n",
            "Selecting previously unselected package swig.\n",
            "Preparing to unpack .../swig_3.0.12-1_amd64.deb ...\n",
            "Unpacking swig (3.0.12-1) ...\n",
            "Setting up swig3.0 (3.0.12-1) ...\n",
            "Setting up swig (3.0.12-1) ...\n",
            "Processing triggers for man-db (2.8.3-2ubuntu0.1) ...\n"
          ]
        }
      ]
    },
    {
      "cell_type": "code",
      "source": [
        "!sudo pip install jamspell"
      ],
      "metadata": {
        "colab": {
          "base_uri": "https://localhost:8080/"
        },
        "id": "J1x86ol8LOKO",
        "outputId": "72b0063c-f0a1-4725-ea97-687f20117aa2"
      },
      "execution_count": 25,
      "outputs": [
        {
          "output_type": "stream",
          "name": "stdout",
          "text": [
            "Looking in indexes: https://pypi.org/simple, https://us-python.pkg.dev/colab-wheels/public/simple/\n",
            "Requirement already satisfied: jamspell in /usr/local/lib/python3.8/dist-packages (0.0.12)\n"
          ]
        }
      ]
    },
    {
      "cell_type": "code",
      "source": [
        "!wget https://github.com/bakwc/JamSpell-models/raw/master/en.tar.gz"
      ],
      "metadata": {
        "colab": {
          "base_uri": "https://localhost:8080/"
        },
        "id": "D5TzOC3oUpx1",
        "outputId": "530dc147-c6ce-4b27-952a-4f9b51a5335f"
      },
      "execution_count": 26,
      "outputs": [
        {
          "output_type": "stream",
          "name": "stdout",
          "text": [
            "--2023-01-03 11:09:53--  https://github.com/bakwc/JamSpell-models/raw/master/en.tar.gz\n",
            "Resolving github.com (github.com)... 140.82.121.4\n",
            "Connecting to github.com (github.com)|140.82.121.4|:443... connected.\n",
            "HTTP request sent, awaiting response... 302 Found\n",
            "Location: https://raw.githubusercontent.com/bakwc/JamSpell-models/master/en.tar.gz [following]\n",
            "--2023-01-03 11:09:53--  https://raw.githubusercontent.com/bakwc/JamSpell-models/master/en.tar.gz\n",
            "Resolving raw.githubusercontent.com (raw.githubusercontent.com)... 185.199.108.133, 185.199.109.133, 185.199.110.133, ...\n",
            "Connecting to raw.githubusercontent.com (raw.githubusercontent.com)|185.199.108.133|:443... connected.\n",
            "HTTP request sent, awaiting response... 200 OK\n",
            "Length: 36611828 (35M) [application/octet-stream]\n",
            "Saving to: ‘en.tar.gz’\n",
            "\n",
            "en.tar.gz           100%[===================>]  34.92M  --.-KB/s    in 0.1s    \n",
            "\n",
            "2023-01-03 11:09:53 (295 MB/s) - ‘en.tar.gz’ saved [36611828/36611828]\n",
            "\n"
          ]
        }
      ]
    },
    {
      "cell_type": "code",
      "source": [
        "!tar -xvf en.tar.gz"
      ],
      "metadata": {
        "colab": {
          "base_uri": "https://localhost:8080/"
        },
        "id": "l6F5APzWUeHT",
        "outputId": "65902e60-7e7c-4939-b93a-ed9ec5caa34e"
      },
      "execution_count": 27,
      "outputs": [
        {
          "output_type": "stream",
          "name": "stdout",
          "text": [
            "en.bin\n"
          ]
        }
      ]
    },
    {
      "cell_type": "code",
      "source": [
        "import jamspell"
      ],
      "metadata": {
        "id": "Camm5fDJLOE3"
      },
      "execution_count": 28,
      "outputs": []
    },
    {
      "cell_type": "code",
      "source": [
        "jsp = jamspell.TSpellCorrector()\n",
        "assert jsp.LoadLangModel('en.bin')"
      ],
      "metadata": {
        "id": "RaY2Y9eVT99J"
      },
      "execution_count": 29,
      "outputs": []
    },
    {
      "cell_type": "code",
      "source": [
        "jsp.FixFragment('I am the begt spell cherken!')\n",
        "jsp.FixFragment('I am at the baech')"
      ],
      "metadata": {
        "colab": {
          "base_uri": "https://localhost:8080/",
          "height": 35
        },
        "id": "Xzsxe6ToLN_z",
        "outputId": "2a5d2031-a6f4-4003-ae86-6b04eae23e4c"
      },
      "execution_count": 31,
      "outputs": [
        {
          "output_type": "execute_result",
          "data": {
            "text/plain": [
              "'I am the best spell checker!'"
            ],
            "application/vnd.google.colaboratory.intrinsic+json": {
              "type": "string"
            }
          },
          "metadata": {},
          "execution_count": 31
        }
      ]
    },
    {
      "cell_type": "code",
      "source": [
        "print(jsp.FixFragment('No one will come alter me.'))\n",
        "print(jsp.FixFragment('She likes to paent by herself.'))\n",
        "print(jsp.FixFragment('We went fishong after school.'))\n",
        "print(jsp.FixFragment('We went fishong after school.'))\n",
        "print(jsp.FixFragment('You are very lozy.'))\n",
        "print(jsp.FixFragment('You don’t teaech your cat tricks.'))\n",
        "print(jsp.FixFragment('I would like to holp you.'))\n",
        "print(jsp.FixFragment('I will get myself a cofe.'))\n",
        "print(jsp.FixFragment('I will not take it fom you.'))\n",
        "print(jsp.FixFragment('He does not goes to gim every day.'))\n",
        "print(jsp.FixFragment('He is my best frend.'))\n",
        "print(jsp.FixFragment('I lernt English by myself.'))\n",
        "print(jsp.FixFragment('Alex isn’t teling the truth.'))\n",
        "print(jsp.FixFragment('They kiled him.'))\n",
        "print(jsp.FixFragment('You are not an enginer.'))\n",
        "print(jsp.FixFragment('My mom likes to painte by herself.'))\n",
        "print(jsp.FixFragment('You will not comee with me.'))\n",
        "print(jsp.FixFragment('I really need someene.'))"
      ],
      "metadata": {
        "colab": {
          "base_uri": "https://localhost:8080/"
        },
        "id": "sroXpGX0LN6R",
        "outputId": "5234237a-a910-46e9-fc77-80326784d64a"
      },
      "execution_count": 45,
      "outputs": [
        {
          "output_type": "stream",
          "name": "stdout",
          "text": [
            "No one will come after me.\n",
            "She likes to paint by herself.\n",
            "We went fishing after school.\n",
            "We went fishing after school.\n",
            "You are very lazy.\n",
            "You don’t teach your cat tricks.\n",
            "I would like to help you.\n",
            "I will get myself a code.\n",
            "I will not take it for you.\n",
            "He does not goes to him every day.\n",
            "He is my best friend.\n",
            "I lent English by myself.\n",
            "Alex isn’t telling the truth.\n",
            "They killed him.\n",
            "You are not an engine.\n",
            "My mom likes to paint by herself.\n",
            "You will not come with me.\n",
            "I really need someone.\n"
          ]
        }
      ]
    },
    {
      "cell_type": "markdown",
      "source": [
        "Correcting the spelling of words"
      ],
      "metadata": {
        "id": "PPm5tTX0cIjk"
      }
    },
    {
      "cell_type": "code",
      "source": [
        "pip install pyspellchecker"
      ],
      "metadata": {
        "colab": {
          "base_uri": "https://localhost:8080/"
        },
        "id": "AEouN7XHXsA5",
        "outputId": "7baf524e-9dff-4975-ca61-acc54057f6eb"
      },
      "execution_count": 46,
      "outputs": [
        {
          "output_type": "stream",
          "name": "stdout",
          "text": [
            "Looking in indexes: https://pypi.org/simple, https://us-python.pkg.dev/colab-wheels/public/simple/\n",
            "Collecting pyspellchecker\n",
            "  Downloading pyspellchecker-0.7.1-py3-none-any.whl (2.5 MB)\n",
            "\u001b[K     |████████████████████████████████| 2.5 MB 13.5 MB/s \n",
            "\u001b[?25hInstalling collected packages: pyspellchecker\n",
            "Successfully installed pyspellchecker-0.7.1\n"
          ]
        }
      ]
    },
    {
      "cell_type": "code",
      "source": [
        "from spellchecker import SpellChecker\n",
        "s_check = SpellChecker()"
      ],
      "metadata": {
        "id": "_MnF1ViVdmYN"
      },
      "execution_count": 47,
      "outputs": []
    },
    {
      "cell_type": "code",
      "source": [
        "words=s_check.unknown(['appple','banena','cerrot','dragoon','eleeephant','foks','goot','hem','igloe',\n",
        "                       'kingfiesher','Onf','hondred','neo','Englesh','waords','mening','xample','sentonces',\n",
        "                       'aleve','medio','cummunications', 'mainle','sociel'])"
      ],
      "metadata": {
        "id": "I0vRnUqld3dZ"
      },
      "execution_count": 51,
      "outputs": []
    },
    {
      "cell_type": "code",
      "source": [
        "for i in words:\n",
        "  print(s_check.correction(i))"
      ],
      "metadata": {
        "colab": {
          "base_uri": "https://localhost:8080/"
        },
        "id": "Nd16Tpw3pKwH",
        "outputId": "3546a3cc-c948-49de-9292-c5135fcc5920"
      },
      "execution_count": 52,
      "outputs": [
        {
          "output_type": "stream",
          "name": "stdout",
          "text": [
            "banana\n",
            "carrot\n",
            "sentences\n",
            "elephant\n",
            "english\n",
            "folks\n",
            "apple\n",
            "social\n",
            "media\n",
            "igloo\n",
            "communications\n",
            "mainly\n",
            "hundred\n",
            "alive\n",
            "of\n",
            "got\n",
            "words\n",
            "example\n",
            "kingfisher\n",
            "meaning\n"
          ]
        }
      ]
    },
    {
      "cell_type": "code",
      "source": [],
      "metadata": {
        "id": "dSFAqxEmpda_"
      },
      "execution_count": null,
      "outputs": []
    }
  ]
}